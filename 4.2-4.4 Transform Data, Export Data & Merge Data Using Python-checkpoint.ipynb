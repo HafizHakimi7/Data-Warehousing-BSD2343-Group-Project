{
 "cells": [
  {
   "cell_type": "markdown",
   "id": "e7501774",
   "metadata": {},
   "source": [
    "# 4.2 TRANSFORM DATA USING PYTHON\n",
    "# TRANSFORM & CLEANING"
   ]
  },
  {
   "cell_type": "markdown",
   "id": "a879b7f2",
   "metadata": {},
   "source": [
    "These pakages need to be installed before run the codes:\n",
    "\n",
    "1. pip install snowflake-connector-python==2.7.8\n",
    "\n",
    "2. pip install “snowflake-connector-python[pandas]”\n",
    "\n",
    "3. pip install boto3 --upgrade\n",
    "\n",
    "4. pip install petl\n",
    "\n",
    "\n",
    "References:\n",
    "\n",
    "\n",
    "1. https://docs.snowflake.com/en/user-guide/python-connector-install.html#python-packages\n",
    "\n",
    "2. https://docs.snowflake.com/en/user-guide/python-connector-pandas.html\n",
    "\n",
    "3. https://stackoverflow.com/questions/43400797/how-to-upgrade-botocore1-2-6-to-1-4-or-above-present-with-boto3\n",
    "\n",
    "4. https://pypi.org/project/petl/"
   ]
  },
  {
   "cell_type": "code",
   "execution_count": 1,
   "id": "a1ba5c9f",
   "metadata": {},
   "outputs": [],
   "source": [
    "#Step 1 : Import all the related libraries that required.\n",
    "\n",
    "import snowflake.connector\n",
    "import pandas as pd\n",
    "import os\n",
    "from io import StringIO\n",
    "import boto3\n",
    "import csv\n",
    "import petl as etl"
   ]
  },
  {
   "cell_type": "code",
   "execution_count": 2,
   "id": "0e3b0ca3",
   "metadata": {},
   "outputs": [],
   "source": [
    "#Step 2 :  Setting login parameter to connect with Snowflake\n",
    "\n",
    "conn = snowflake.connector.connect(\n",
    "user = 'HAFIZHAKIMI',\n",
    "password = 'Lolipop@123',\n",
    "account = 'LG06572.ap-southeast-1',\n",
    "warehouse = 'COMPUTE_WH',\n",
    "database = 'Football_Data',\n",
    "schema = 'Data')\n",
    "curs = conn.cursor() # Cursor object is use to fetch the values in the results."
   ]
  },
  {
   "cell_type": "markdown",
   "id": "bfd339a8",
   "metadata": {},
   "source": [
    "By default, the Snowflake Connector for Python will converts the values from Snowflake data types to native Python data types."
   ]
  },
  {
   "cell_type": "markdown",
   "id": "c7663f53",
   "metadata": {},
   "source": [
    "#### 4.2.1 Data cleaning for \"appearances\" table"
   ]
  },
  {
   "cell_type": "code",
   "execution_count": 3,
   "id": "4488a019",
   "metadata": {},
   "outputs": [],
   "source": [
    "#Call the execute() method in the Cursor object to load the data in Python by using Snowflake syntax\n",
    "\n",
    "appearances = curs.execute(\"select * from Football_Data.Data.appearances;\")"
   ]
  },
  {
   "cell_type": "code",
   "execution_count": 4,
   "id": "250c702d",
   "metadata": {},
   "outputs": [],
   "source": [
    "#We use Cursor to retrieve the data and then call the fetch_pandas_all() Cursor methods to put the data into a Pandas DataFrame:\n",
    "\n",
    "appearances_df = appearances.fetch_pandas_all()\n",
    "\n",
    "#After we load the data from Snowflake into Pandas DataFrame, then we can use python syntax to execute the data."
   ]
  },
  {
   "cell_type": "code",
   "execution_count": 5,
   "id": "86c3dc46",
   "metadata": {},
   "outputs": [
    {
     "data": {
      "text/plain": [
       "PLAYER_ID          0\n",
       "GAME_ID           11\n",
       "APPEARANCE_ID      0\n",
       "COMPETITION_ID     0\n",
       "PLAYER_CLUB_ID     0\n",
       "GOALS              0\n",
       "ASSISTS            0\n",
       "MINUTES_PLAYED     0\n",
       "YELLOW_CARDS       0\n",
       "RED_CARDS          0\n",
       "dtype: int64"
      ]
     },
     "execution_count": 5,
     "metadata": {},
     "output_type": "execute_result"
    }
   ],
   "source": [
    "#Check for existing of null values\n",
    "\n",
    "appearances_df.isnull().sum()"
   ]
  },
  {
   "cell_type": "code",
   "execution_count": 6,
   "id": "d471d6b7",
   "metadata": {},
   "outputs": [
    {
     "data": {
      "text/plain": [
       "(1034190, 10)"
      ]
     },
     "execution_count": 6,
     "metadata": {},
     "output_type": "execute_result"
    }
   ],
   "source": [
    "appearances_df.shape"
   ]
  },
  {
   "cell_type": "markdown",
   "id": "0d5bcf90",
   "metadata": {},
   "source": [
    "There are 1034190 rows and 10 columns before we remove the null values."
   ]
  },
  {
   "cell_type": "code",
   "execution_count": 7,
   "id": "c586af88",
   "metadata": {},
   "outputs": [],
   "source": [
    "#Drop the null value\n",
    "\n",
    "appearances_df2 = appearances_df.dropna()"
   ]
  },
  {
   "cell_type": "code",
   "execution_count": 8,
   "id": "249c094d",
   "metadata": {},
   "outputs": [
    {
     "data": {
      "text/plain": [
       "PLAYER_ID         0\n",
       "GAME_ID           0\n",
       "APPEARANCE_ID     0\n",
       "COMPETITION_ID    0\n",
       "PLAYER_CLUB_ID    0\n",
       "GOALS             0\n",
       "ASSISTS           0\n",
       "MINUTES_PLAYED    0\n",
       "YELLOW_CARDS      0\n",
       "RED_CARDS         0\n",
       "dtype: int64"
      ]
     },
     "execution_count": 8,
     "metadata": {},
     "output_type": "execute_result"
    }
   ],
   "source": [
    "#Check the null values again\n",
    "\n",
    "appearances_df2.isnull().sum()"
   ]
  },
  {
   "cell_type": "markdown",
   "id": "c24aa0c9",
   "metadata": {},
   "source": [
    "No nulls values detected after drop the null value process executed"
   ]
  },
  {
   "cell_type": "code",
   "execution_count": 9,
   "id": "8d5dadd4",
   "metadata": {},
   "outputs": [
    {
     "data": {
      "text/plain": [
       "(1034179, 10)"
      ]
     },
     "execution_count": 9,
     "metadata": {},
     "output_type": "execute_result"
    }
   ],
   "source": [
    "appearances_df2.shape"
   ]
  },
  {
   "cell_type": "markdown",
   "id": "d74a6376",
   "metadata": {},
   "source": [
    "There are 1034179 rows and 10 columns after we remove the null values."
   ]
  },
  {
   "cell_type": "markdown",
   "id": "e6cfe9a9",
   "metadata": {},
   "source": [
    "Next, we will execute the steps above to the left 6 tables, which are \"players\", \"clubs\", \"competitions\",\"leagues\", \"games\" and \"player_valuations\" tables."
   ]
  },
  {
   "cell_type": "markdown",
   "id": "6b96bb14",
   "metadata": {},
   "source": [
    "#### 4.2.2 Data cleaning for \"players\" table"
   ]
  },
  {
   "cell_type": "code",
   "execution_count": 10,
   "id": "56b1a0ee",
   "metadata": {},
   "outputs": [],
   "source": [
    "#Call the execute() method in the Cursor object to load the data in Python by using Snowflake syntax\n",
    "\n",
    "players = curs.execute(\"select * from Football_Data.Data.players;\")"
   ]
  },
  {
   "cell_type": "code",
   "execution_count": 11,
   "id": "773d94b7",
   "metadata": {},
   "outputs": [],
   "source": [
    "#We use Cursor to retrieve the data and then call the fetch_pandas_all() Cursor methods to put the data into a Pandas DataFrame:\n",
    "\n",
    "players_df = players.fetch_pandas_all()\n",
    "\n",
    "#After we load the data from Snowflake into Pandas DataFrame, then we can use python syntax to execute the data."
   ]
  },
  {
   "cell_type": "code",
   "execution_count": 12,
   "id": "0d42d5c4",
   "metadata": {},
   "outputs": [
    {
     "data": {
      "text/plain": [
       "PLAYER_ID                         0\n",
       "LAST_SEASON                       0\n",
       "CURRENT_CLUB_ID                   0\n",
       "NAME                              0\n",
       "PRETTY_NAME                       0\n",
       "COUNTRY_OF_BIRTH               1429\n",
       "COUNTRY_OF_CITIZENSHIP            1\n",
       "POSITION                          0\n",
       "SUB_POSITION                      0\n",
       "FOOT                           1658\n",
       "HEIGHT_IN_CM                      0\n",
       "MARKET_VALUE_IN_GBP            6859\n",
       "HIGHEST_MARKET_VALUE_IN_GBP     708\n",
       "dtype: int64"
      ]
     },
     "execution_count": 12,
     "metadata": {},
     "output_type": "execute_result"
    }
   ],
   "source": [
    "#Check for existing of null values\n",
    "\n",
    "players_df.isnull().sum()"
   ]
  },
  {
   "cell_type": "code",
   "execution_count": 13,
   "id": "0b4a83de",
   "metadata": {},
   "outputs": [
    {
     "data": {
      "text/plain": [
       "(23662, 13)"
      ]
     },
     "execution_count": 13,
     "metadata": {},
     "output_type": "execute_result"
    }
   ],
   "source": [
    "players_df.shape"
   ]
  },
  {
   "cell_type": "markdown",
   "id": "7440b3d4",
   "metadata": {},
   "source": [
    "There are 23662 rows and 13 columns before we remove the null values."
   ]
  },
  {
   "cell_type": "code",
   "execution_count": 14,
   "id": "44542ce3",
   "metadata": {},
   "outputs": [],
   "source": [
    "#Drop the null value\n",
    "\n",
    "players_df2 = players_df.dropna()"
   ]
  },
  {
   "cell_type": "code",
   "execution_count": 15,
   "id": "289fc57b",
   "metadata": {},
   "outputs": [
    {
     "data": {
      "text/plain": [
       "PLAYER_ID                      0\n",
       "LAST_SEASON                    0\n",
       "CURRENT_CLUB_ID                0\n",
       "NAME                           0\n",
       "PRETTY_NAME                    0\n",
       "COUNTRY_OF_BIRTH               0\n",
       "COUNTRY_OF_CITIZENSHIP         0\n",
       "POSITION                       0\n",
       "SUB_POSITION                   0\n",
       "FOOT                           0\n",
       "HEIGHT_IN_CM                   0\n",
       "MARKET_VALUE_IN_GBP            0\n",
       "HIGHEST_MARKET_VALUE_IN_GBP    0\n",
       "dtype: int64"
      ]
     },
     "execution_count": 15,
     "metadata": {},
     "output_type": "execute_result"
    }
   ],
   "source": [
    "#Check the null values again\n",
    "\n",
    "players_df2.isnull().sum()"
   ]
  },
  {
   "cell_type": "code",
   "execution_count": 16,
   "id": "d01a093b",
   "metadata": {},
   "outputs": [
    {
     "data": {
      "text/plain": [
       "(15579, 13)"
      ]
     },
     "execution_count": 16,
     "metadata": {},
     "output_type": "execute_result"
    }
   ],
   "source": [
    "players_df2.shape"
   ]
  },
  {
   "cell_type": "markdown",
   "id": "2948c118",
   "metadata": {},
   "source": [
    "There are 15579 rows and 13 columns after we remove the null values."
   ]
  },
  {
   "cell_type": "markdown",
   "id": "9c5a3181",
   "metadata": {},
   "source": [
    "#### 4.2.3 Data cleaning for \"clubs\" table"
   ]
  },
  {
   "cell_type": "code",
   "execution_count": 17,
   "id": "2459b9b0",
   "metadata": {},
   "outputs": [],
   "source": [
    "#Call the execute() method in the Cursor object to load the data in Python by using Snowflake syntax\n",
    "\n",
    "clubs = curs.execute(\"select * from Football_Data.Data.clubs;\")"
   ]
  },
  {
   "cell_type": "code",
   "execution_count": 18,
   "id": "57c4e06b",
   "metadata": {},
   "outputs": [],
   "source": [
    "#We use Cursor to retrieve the data and then call the fetch_pandas_all() Cursor methods to put the data into a Pandas DataFrame:\n",
    "\n",
    "clubs_df = clubs.fetch_pandas_all()\n",
    "\n",
    "#After we load the data from Snowflake into Pandas DataFrame, then we can use python syntax to execute the data."
   ]
  },
  {
   "cell_type": "code",
   "execution_count": 19,
   "id": "a9d72b45",
   "metadata": {},
   "outputs": [
    {
     "data": {
      "text/plain": [
       "CLUB_ID                     0\n",
       "NAME                        0\n",
       "PRETTY_NAME                 0\n",
       "DOMESTIC_COMPETITION_ID     0\n",
       "TOTAL_MARKET_VALUE         35\n",
       "SQUAD_SIZE                  0\n",
       "AVERAGE_AGE                29\n",
       "FOREIGNERS_NUMBER           0\n",
       "FOREIGNERS_PERCENTAGE      43\n",
       "NATIONAL_TEAM_PLAYERS       0\n",
       "STADIUM_NAME                0\n",
       "STADIUM_SEATS               0\n",
       "COACH_NAME                  0\n",
       "dtype: int64"
      ]
     },
     "execution_count": 19,
     "metadata": {},
     "output_type": "execute_result"
    }
   ],
   "source": [
    "#Check for existing of null values\n",
    "\n",
    "clubs_df.isnull().sum()"
   ]
  },
  {
   "cell_type": "code",
   "execution_count": 20,
   "id": "69013581",
   "metadata": {},
   "outputs": [
    {
     "data": {
      "text/plain": [
       "(400, 13)"
      ]
     },
     "execution_count": 20,
     "metadata": {},
     "output_type": "execute_result"
    }
   ],
   "source": [
    "clubs_df.shape"
   ]
  },
  {
   "cell_type": "markdown",
   "id": "794aee47",
   "metadata": {},
   "source": [
    "There are 400 rows and 13 columns before we remove the null values."
   ]
  },
  {
   "cell_type": "code",
   "execution_count": 21,
   "id": "0339d443",
   "metadata": {},
   "outputs": [],
   "source": [
    "#Drop the null value\n",
    "\n",
    "clubs_df2 = clubs_df.dropna()"
   ]
  },
  {
   "cell_type": "code",
   "execution_count": 22,
   "id": "8a94db79",
   "metadata": {},
   "outputs": [
    {
     "data": {
      "text/plain": [
       "CLUB_ID                    0\n",
       "NAME                       0\n",
       "PRETTY_NAME                0\n",
       "DOMESTIC_COMPETITION_ID    0\n",
       "TOTAL_MARKET_VALUE         0\n",
       "SQUAD_SIZE                 0\n",
       "AVERAGE_AGE                0\n",
       "FOREIGNERS_NUMBER          0\n",
       "FOREIGNERS_PERCENTAGE      0\n",
       "NATIONAL_TEAM_PLAYERS      0\n",
       "STADIUM_NAME               0\n",
       "STADIUM_SEATS              0\n",
       "COACH_NAME                 0\n",
       "dtype: int64"
      ]
     },
     "execution_count": 22,
     "metadata": {},
     "output_type": "execute_result"
    }
   ],
   "source": [
    "#Check the null values again\n",
    "\n",
    "clubs_df2.isnull().sum()"
   ]
  },
  {
   "cell_type": "code",
   "execution_count": 23,
   "id": "4e65979c",
   "metadata": {},
   "outputs": [
    {
     "data": {
      "text/plain": [
       "(355, 13)"
      ]
     },
     "execution_count": 23,
     "metadata": {},
     "output_type": "execute_result"
    }
   ],
   "source": [
    "clubs_df2.shape"
   ]
  },
  {
   "cell_type": "markdown",
   "id": "450228cd",
   "metadata": {},
   "source": [
    "There are 355 rows and 13 columns after we remove the null values."
   ]
  },
  {
   "cell_type": "markdown",
   "id": "73cde9df",
   "metadata": {},
   "source": [
    "#### 4.2.4 Data cleaning for \"competitions\" table"
   ]
  },
  {
   "cell_type": "code",
   "execution_count": 24,
   "id": "5cfa3ebf",
   "metadata": {},
   "outputs": [],
   "source": [
    "#Call the execute() method in the Cursor object to load the data in Python by using Snowflake syntax\n",
    "\n",
    "competitions = curs.execute(\"select * from Football_Data.Data.competitions;\")"
   ]
  },
  {
   "cell_type": "code",
   "execution_count": 25,
   "id": "97de6dcd",
   "metadata": {},
   "outputs": [],
   "source": [
    "#We use Cursor to retrieve the data and then call the fetch_pandas_all() Cursor methods to put the data into a Pandas DataFrame:\n",
    "\n",
    "competitions_df = competitions.fetch_pandas_all()\n",
    "\n",
    "#After we load the data from Snowflake into Pandas DataFrame, then we can use python syntax to execute the data."
   ]
  },
  {
   "cell_type": "code",
   "execution_count": 26,
   "id": "d0227d23",
   "metadata": {},
   "outputs": [
    {
     "data": {
      "text/plain": [
       "COMPETITION_ID          0\n",
       "NAME                    0\n",
       "TYPE                    0\n",
       "COUNTRY_ID              0\n",
       "COUNTRY_NAME            7\n",
       "DOMESTIC_LEAGUE_CODE    7\n",
       "CONFEDERATION           0\n",
       "dtype: int64"
      ]
     },
     "execution_count": 26,
     "metadata": {},
     "output_type": "execute_result"
    }
   ],
   "source": [
    "#Check for existing of null values\n",
    "\n",
    "competitions_df.isnull().sum()"
   ]
  },
  {
   "cell_type": "code",
   "execution_count": 27,
   "id": "83774290",
   "metadata": {},
   "outputs": [
    {
     "data": {
      "text/plain": [
       "(42, 7)"
      ]
     },
     "execution_count": 27,
     "metadata": {},
     "output_type": "execute_result"
    }
   ],
   "source": [
    "competitions_df.shape"
   ]
  },
  {
   "cell_type": "markdown",
   "id": "31e6c482",
   "metadata": {},
   "source": [
    "There are 42 rows and 7 columns before we remove the null values."
   ]
  },
  {
   "cell_type": "code",
   "execution_count": 28,
   "id": "ca095697",
   "metadata": {},
   "outputs": [],
   "source": [
    "#Drop the null value\n",
    "\n",
    "competitions_df2 = competitions_df.dropna()"
   ]
  },
  {
   "cell_type": "code",
   "execution_count": 29,
   "id": "161ba9d2",
   "metadata": {},
   "outputs": [
    {
     "data": {
      "text/plain": [
       "COMPETITION_ID          0\n",
       "NAME                    0\n",
       "TYPE                    0\n",
       "COUNTRY_ID              0\n",
       "COUNTRY_NAME            0\n",
       "DOMESTIC_LEAGUE_CODE    0\n",
       "CONFEDERATION           0\n",
       "dtype: int64"
      ]
     },
     "execution_count": 29,
     "metadata": {},
     "output_type": "execute_result"
    }
   ],
   "source": [
    "#Check the null values again\n",
    "\n",
    "competitions_df2.isnull().sum()"
   ]
  },
  {
   "cell_type": "code",
   "execution_count": 30,
   "id": "df81ac74",
   "metadata": {},
   "outputs": [
    {
     "data": {
      "text/plain": [
       "(35, 7)"
      ]
     },
     "execution_count": 30,
     "metadata": {},
     "output_type": "execute_result"
    }
   ],
   "source": [
    "competitions_df2.shape"
   ]
  },
  {
   "cell_type": "markdown",
   "id": "26ce52b8",
   "metadata": {},
   "source": [
    "There are 35 rows and 7 columns after we remove the null values."
   ]
  },
  {
   "cell_type": "markdown",
   "id": "ce781503",
   "metadata": {},
   "source": [
    "#### 4.2.5 Data cleaning for \"leagues\" table"
   ]
  },
  {
   "cell_type": "code",
   "execution_count": 31,
   "id": "d4303fe8",
   "metadata": {},
   "outputs": [],
   "source": [
    "#Call the execute() method in the Cursor object to load the data in Python by using Snowflake syntax\n",
    "\n",
    "leagues = curs.execute(\"select * from Football_Data.Data.leagues;\")"
   ]
  },
  {
   "cell_type": "code",
   "execution_count": 32,
   "id": "1150f31e",
   "metadata": {},
   "outputs": [],
   "source": [
    "#We use Cursor to retrieve the data and then call the fetch_pandas_all() Cursor methods to put the data into a Pandas DataFrame:\n",
    "\n",
    "leagues_df = leagues.fetch_pandas_all()\n",
    "\n",
    "#After we load the data from Snowflake into Pandas DataFrame, then we can use python syntax to execute the data."
   ]
  },
  {
   "cell_type": "code",
   "execution_count": 33,
   "id": "a212d765",
   "metadata": {},
   "outputs": [
    {
     "data": {
      "text/plain": [
       "LEAGUE_ID        0\n",
       "NAME             0\n",
       "CONFEDERATION    0\n",
       "dtype: int64"
      ]
     },
     "execution_count": 33,
     "metadata": {},
     "output_type": "execute_result"
    }
   ],
   "source": [
    "#Check for existing of null values\n",
    "\n",
    "leagues_df.isnull().sum()"
   ]
  },
  {
   "cell_type": "markdown",
   "id": "3d5bd740",
   "metadata": {},
   "source": [
    "There is no null values in the \"leagues\" table"
   ]
  },
  {
   "cell_type": "code",
   "execution_count": 34,
   "id": "baf43a25",
   "metadata": {},
   "outputs": [
    {
     "data": {
      "text/plain": [
       "(14, 3)"
      ]
     },
     "execution_count": 34,
     "metadata": {},
     "output_type": "execute_result"
    }
   ],
   "source": [
    "leagues_df.shape"
   ]
  },
  {
   "cell_type": "markdown",
   "id": "624f3629",
   "metadata": {},
   "source": [
    "#### 4.2.6 Data cleaning for \"games\" table"
   ]
  },
  {
   "cell_type": "code",
   "execution_count": 35,
   "id": "4836e081",
   "metadata": {},
   "outputs": [],
   "source": [
    "#Call the execute() method in the Cursor object to load the data in Python by using Snowflake syntax\n",
    "\n",
    "games = curs.execute(\"select * from Football_Data.Data.games;\")"
   ]
  },
  {
   "cell_type": "code",
   "execution_count": 36,
   "id": "30557983",
   "metadata": {},
   "outputs": [],
   "source": [
    "#We use Cursor to retrieve the data and then call the fetch_pandas_all() Cursor methods to put the data into a Pandas DataFrame:\n",
    "\n",
    "games_df = games.fetch_pandas_all()\n",
    "\n",
    "#After we load the data from Snowflake into Pandas DataFrame, then we can use python syntax to execute the data."
   ]
  },
  {
   "cell_type": "code",
   "execution_count": 37,
   "id": "194f88d7",
   "metadata": {},
   "outputs": [
    {
     "data": {
      "text/plain": [
       "GAME_ID                   0\n",
       "COMPETITION_CODE          0\n",
       "SEASON                    0\n",
       "ROUND                     0\n",
       "HOME_CLUB_ID              0\n",
       "AWAY_CLUB_ID              0\n",
       "HOME_CLUB_GOALS           0\n",
       "AWAY_CLUB_GOALS           0\n",
       "HOME_CLUB_POSITION    15844\n",
       "AWAY_CLUB_POSITION    15844\n",
       "STADIUM                 160\n",
       "ATTENDANCE             8565\n",
       "REFEREE                 515\n",
       "dtype: int64"
      ]
     },
     "execution_count": 37,
     "metadata": {},
     "output_type": "execute_result"
    }
   ],
   "source": [
    "#Check for existing of null values\n",
    "\n",
    "games_df.isnull().sum()"
   ]
  },
  {
   "cell_type": "code",
   "execution_count": 38,
   "id": "c423ff37",
   "metadata": {},
   "outputs": [
    {
     "data": {
      "text/plain": [
       "(55822, 13)"
      ]
     },
     "execution_count": 38,
     "metadata": {},
     "output_type": "execute_result"
    }
   ],
   "source": [
    "games_df.shape"
   ]
  },
  {
   "cell_type": "markdown",
   "id": "c22fce57",
   "metadata": {},
   "source": [
    "There are 55822 rows and 13 columns before we remove the null values."
   ]
  },
  {
   "cell_type": "code",
   "execution_count": 39,
   "id": "65611b81",
   "metadata": {},
   "outputs": [],
   "source": [
    "#Drop the null value\n",
    "\n",
    "games_df2 = games_df.dropna()"
   ]
  },
  {
   "cell_type": "code",
   "execution_count": 40,
   "id": "dbfb2846",
   "metadata": {
    "scrolled": true
   },
   "outputs": [
    {
     "data": {
      "text/plain": [
       "GAME_ID               0\n",
       "COMPETITION_CODE      0\n",
       "SEASON                0\n",
       "ROUND                 0\n",
       "HOME_CLUB_ID          0\n",
       "AWAY_CLUB_ID          0\n",
       "HOME_CLUB_GOALS       0\n",
       "AWAY_CLUB_GOALS       0\n",
       "HOME_CLUB_POSITION    0\n",
       "AWAY_CLUB_POSITION    0\n",
       "STADIUM               0\n",
       "ATTENDANCE            0\n",
       "REFEREE               0\n",
       "dtype: int64"
      ]
     },
     "execution_count": 40,
     "metadata": {},
     "output_type": "execute_result"
    }
   ],
   "source": [
    "#Check the null values again\n",
    "\n",
    "games_df2.isnull().sum()"
   ]
  },
  {
   "cell_type": "code",
   "execution_count": 41,
   "id": "b014e911",
   "metadata": {},
   "outputs": [
    {
     "data": {
      "text/plain": [
       "(34673, 13)"
      ]
     },
     "execution_count": 41,
     "metadata": {},
     "output_type": "execute_result"
    }
   ],
   "source": [
    "games_df2.shape"
   ]
  },
  {
   "cell_type": "markdown",
   "id": "2b997ae8",
   "metadata": {},
   "source": [
    "There are 34673 rows and 13 columns after we remove the null values."
   ]
  },
  {
   "cell_type": "markdown",
   "id": "f061ffab",
   "metadata": {},
   "source": [
    "#### 4.2.7 Data cleaning for \"player_valuations\" table"
   ]
  },
  {
   "cell_type": "code",
   "execution_count": 42,
   "id": "3ef9f191",
   "metadata": {},
   "outputs": [],
   "source": [
    "#Call the execute() method in the Cursor object to load the data in Python by using Snowflake syntax\n",
    "\n",
    "player_valuations = curs.execute(\"select * from Football_Data.Data.player_valuations;\")"
   ]
  },
  {
   "cell_type": "code",
   "execution_count": 43,
   "id": "c3bc3e0c",
   "metadata": {},
   "outputs": [],
   "source": [
    "#We use Cursor to retrieve the data and then call the fetch_pandas_all() Cursor methods to put the data into a Pandas DataFrame:\n",
    "\n",
    "player_valuations_df = player_valuations.fetch_pandas_all()\n",
    "\n",
    "#After we load the data from Snowflake into Pandas DataFrame, then we can use python syntax to execute the data."
   ]
  },
  {
   "cell_type": "code",
   "execution_count": 44,
   "id": "aa769214",
   "metadata": {},
   "outputs": [
    {
     "data": {
      "text/plain": [
       "PLAYER_ID       0\n",
       "DATE            0\n",
       "MARKET_VALUE    0\n",
       "dtype: int64"
      ]
     },
     "execution_count": 44,
     "metadata": {},
     "output_type": "execute_result"
    }
   ],
   "source": [
    "#Check for existing of null values\n",
    "\n",
    "player_valuations_df.isnull().sum()"
   ]
  },
  {
   "cell_type": "markdown",
   "id": "14159cb6",
   "metadata": {},
   "source": [
    "There is no null value in the \"player_valuations\" table"
   ]
  },
  {
   "cell_type": "code",
   "execution_count": 45,
   "id": "d0ddc2b1",
   "metadata": {
    "scrolled": true
   },
   "outputs": [
    {
     "data": {
      "text/plain": [
       "(352132, 3)"
      ]
     },
     "execution_count": 45,
     "metadata": {},
     "output_type": "execute_result"
    }
   ],
   "source": [
    "player_valuations_df.shape"
   ]
  },
  {
   "cell_type": "markdown",
   "id": "8d0da029",
   "metadata": {},
   "source": [
    "#### 4.3 Export Cleaned Data"
   ]
  },
  {
   "cell_type": "markdown",
   "id": "37b23d0d",
   "metadata": {},
   "source": [
    "The new CSV file will be exported, after we cleaning the null value in dataset\n",
    "\n",
    "- The new CSV file of \"appearances\", \"players\", \"clubs\", \"competitions\" and \"games\" tables will be exported.\n",
    "- The new CSV file of \"leagues\" and \"player_valuations\" tables also will be exported even it's already cleaned because just to make sure every CSV file were tally to each other."
   ]
  },
  {
   "cell_type": "code",
   "execution_count": 46,
   "id": "7db8c480",
   "metadata": {},
   "outputs": [],
   "source": [
    "# #\"New_appearances\"\n",
    "\n",
    "# appearances_df2.to_csv('New_appearances.csv')"
   ]
  },
  {
   "cell_type": "code",
   "execution_count": 47,
   "id": "0100ac0a",
   "metadata": {},
   "outputs": [],
   "source": [
    "# #\"New_players\"\n",
    "\n",
    "# players_df2.to_csv('New_players.csv')"
   ]
  },
  {
   "cell_type": "code",
   "execution_count": 48,
   "id": "ecd389ae",
   "metadata": {},
   "outputs": [],
   "source": [
    "# #\"New_clubs\"\n",
    "\n",
    "# clubs_df2.to_csv('New_clubs.csv')"
   ]
  },
  {
   "cell_type": "code",
   "execution_count": 49,
   "id": "d5c52ab0",
   "metadata": {},
   "outputs": [],
   "source": [
    "# #\"New_competitions\"\n",
    "\n",
    "# competitions_df2.to_csv('New_competitions.csv')"
   ]
  },
  {
   "cell_type": "code",
   "execution_count": 50,
   "id": "4bfcd901",
   "metadata": {},
   "outputs": [],
   "source": [
    "# #\"New_games\"\n",
    "\n",
    "# games_df2.to_csv('New_games.csv')"
   ]
  },
  {
   "cell_type": "code",
   "execution_count": 51,
   "id": "8636fa0a",
   "metadata": {},
   "outputs": [],
   "source": [
    "# #\"New_leagues\"\n",
    "\n",
    "# leagues_df.to_csv('New_leagues.csv')"
   ]
  },
  {
   "cell_type": "code",
   "execution_count": 52,
   "id": "83ee5594",
   "metadata": {},
   "outputs": [],
   "source": [
    "# #\"New_player_valuations\"\n",
    "\n",
    "# player_valuations_df.to_csv('New_player_valuations.csv')"
   ]
  },
  {
   "cell_type": "markdown",
   "id": "10246182",
   "metadata": {},
   "source": [
    "#### 4.4 Data Integration (Inner Join)"
   ]
  },
  {
   "cell_type": "code",
   "execution_count": 54,
   "id": "706fb0b7",
   "metadata": {},
   "outputs": [],
   "source": [
    "#First, we join the 'GAME_ID' column between appearances_df2 and games_df2.\n",
    "\n",
    "Join1 = pd.merge(appearances_df2, games_df2, how='inner', on = [\"GAME_ID\"])"
   ]
  },
  {
   "cell_type": "code",
   "execution_count": 55,
   "id": "b8868011",
   "metadata": {},
   "outputs": [
    {
     "data": {
      "text/plain": [
       "(742134, 22)"
      ]
     },
     "execution_count": 55,
     "metadata": {},
     "output_type": "execute_result"
    }
   ],
   "source": [
    "Join1.shape"
   ]
  },
  {
   "cell_type": "markdown",
   "id": "340a0748",
   "metadata": {},
   "source": [
    "There is 22 columns after join the 'GAME_ID' column. (appearances_df2 column + games_df2 column - duplicate column : 10+13-1=22)"
   ]
  },
  {
   "cell_type": "code",
   "execution_count": 56,
   "id": "ec7af157",
   "metadata": {},
   "outputs": [],
   "source": [
    "#Second, we join the 'COMPETITION_ID' column between Join1 and competitions_df2.\n",
    "\n",
    "Join2 = pd.merge(Join1, competitions_df2, how='inner', on = [\"COMPETITION_ID\"])"
   ]
  },
  {
   "cell_type": "code",
   "execution_count": 57,
   "id": "d2494ae6",
   "metadata": {},
   "outputs": [
    {
     "data": {
      "text/plain": [
       "(742134, 28)"
      ]
     },
     "execution_count": 57,
     "metadata": {},
     "output_type": "execute_result"
    }
   ],
   "source": [
    "Join2.shape"
   ]
  },
  {
   "cell_type": "markdown",
   "id": "d02369df",
   "metadata": {},
   "source": [
    "There is 28 columns after join the 'COMPETITION_ID' column. (Join1 column + competitions_df2 column - duplicate column : 22+7-1=28)"
   ]
  },
  {
   "cell_type": "code",
   "execution_count": 58,
   "id": "daef4ae4",
   "metadata": {},
   "outputs": [],
   "source": [
    "#Third, we join the 'PLAYER_ID' column between Join2 and players_df2.\n",
    "\n",
    "Join3 = pd.merge(Join2, players_df2, how='inner', on = [\"PLAYER_ID\"])"
   ]
  },
  {
   "cell_type": "code",
   "execution_count": 59,
   "id": "f84a6559",
   "metadata": {},
   "outputs": [
    {
     "data": {
      "text/plain": [
       "(617382, 40)"
      ]
     },
     "execution_count": 59,
     "metadata": {},
     "output_type": "execute_result"
    }
   ],
   "source": [
    "Join3.shape"
   ]
  },
  {
   "cell_type": "markdown",
   "id": "251ce974",
   "metadata": {},
   "source": [
    "There is 40 columns after join the 'PLAYER_ID' column. (Join2 column + players_df2 column - duplicate column : 28+13-1=40)"
   ]
  },
  {
   "cell_type": "code",
   "execution_count": 60,
   "id": "ccc0a729",
   "metadata": {},
   "outputs": [],
   "source": [
    "#Forth, we join the 'PLAYER_ID' column between Join3 and player_valuations_df.\n",
    "\n",
    "Join4 = pd.merge(Join3, player_valuations_df, how='inner', on = [\"PLAYER_ID\"])"
   ]
  },
  {
   "cell_type": "code",
   "execution_count": 61,
   "id": "3080b296",
   "metadata": {},
   "outputs": [
    {
     "data": {
      "text/plain": [
       "(14225920, 42)"
      ]
     },
     "execution_count": 61,
     "metadata": {},
     "output_type": "execute_result"
    }
   ],
   "source": [
    "Join4.shape"
   ]
  },
  {
   "cell_type": "markdown",
   "id": "00484554",
   "metadata": {},
   "source": [
    "There is 42 columns after join the 'PLAYER_ID' column. (Join3 column + player_valuations_df column - duplicate column : 40+3-1=42)"
   ]
  },
  {
   "cell_type": "code",
   "execution_count": 62,
   "id": "b285ac03",
   "metadata": {},
   "outputs": [],
   "source": [
    "Join4.to_csv('Merged_Football_Data.csv')"
   ]
  },
  {
   "cell_type": "code",
   "execution_count": null,
   "id": "c38a0469",
   "metadata": {},
   "outputs": [],
   "source": [
    "#Disconnect the connection between Snowflake & Jupyter\n",
    "\n",
    "conn.close()"
   ]
  }
 ],
 "metadata": {
  "kernelspec": {
   "display_name": "Python 3 (ipykernel)",
   "language": "python",
   "name": "python3"
  },
  "language_info": {
   "codemirror_mode": {
    "name": "ipython",
    "version": 3
   },
   "file_extension": ".py",
   "mimetype": "text/x-python",
   "name": "python",
   "nbconvert_exporter": "python",
   "pygments_lexer": "ipython3",
   "version": "3.9.7"
  }
 },
 "nbformat": 4,
 "nbformat_minor": 5
}
